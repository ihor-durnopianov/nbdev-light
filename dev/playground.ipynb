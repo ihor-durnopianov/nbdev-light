{
 "cells": [
  {
   "cell_type": "markdown",
   "metadata": {},
   "source": [
    "# Libs"
   ]
  },
  {
   "cell_type": "code",
   "execution_count": null,
   "metadata": {},
   "outputs": [],
   "source": [
    "import collections\n",
    "import numbers\n",
    "import operator\n",
    "import functools\n",
    "import bisect\n",
    "import threading as th\n",
    "import collections\n",
    "import time\n",
    "import ssl\n",
    "import websocket\n",
    "import json\n",
    "import contextlib\n",
    "import os\n",
    "import pathlib\n",
    "import shutil\n",
    "import warnings\n",
    "import re"
   ]
  },
  {
   "cell_type": "code",
   "execution_count": null,
   "metadata": {},
   "outputs": [],
   "source": [
    "import math\n",
    "import numpy as np\n",
    "import scipy as sp\n",
    "import pandas as pd\n",
    "\n",
    "pd.set_option(\"max_rows\", 128)\n",
    "pd.set_option(\"max_columns\", None)\n",
    "pd.set_option(\"max_colwidth\", 1024)\n",
    "\n",
    "import matplotlib.pyplot as plt\n",
    "from matplotlib import animation\n",
    "from mpl_toolkits.mplot3d.axes3d import Axes3D\n",
    "import seaborn as sns\n",
    "# import plotly\n",
    "# import plotly.offline as po\n",
    "# import plotly.graph_objs as pg\n",
    "# import plotly.figure_factory as pf"
   ]
  },
  {
   "cell_type": "code",
   "execution_count": null,
   "metadata": {},
   "outputs": [],
   "source": [
    "if True:\n",
    "    %matplotlib inline\n",
    "    plt.rcParams[\"figure.figsize\"] = (8.0, 6.0)\n",
    "    plt.rcParams[\"animation.html\"] = \"html5\"\n",
    "elif False:\n",
    "    %matplotlib notebook\n",
    "sns.set()\n",
    "sns.set_style(\"whitegrid\")\n",
    "# po.init_notebook_mode(connected=True)\n",
    "\n",
    "# import cufflinks as cf\n",
    "# cf.set_config_file(offline=True)\n",
    "\n",
    "# from sklearn import datasets\n",
    "from sklearn import (\n",
    "    preprocessing,\n",
    "    pipeline,\n",
    "    metrics,\n",
    "    dummy\n",
    ")"
   ]
  },
  {
   "cell_type": "code",
   "execution_count": null,
   "metadata": {},
   "outputs": [],
   "source": [
    "from sklearn import (\n",
    "    linear_model,\n",
    "    ensemble,\n",
    "    neural_network,\n",
    "    tree,\n",
    "    svm\n",
    ")\n",
    "from sklearn import (\n",
    "    neighbors,\n",
    "    manifold,\n",
    "    decomposition,\n",
    "    cluster\n",
    ")\n",
    "from sklearn import (\n",
    "    model_selection,\n",
    "    utils\n",
    ")\n",
    "\n",
    "# import eli5\n",
    "# import lime\n",
    "# import lime.lime_tabular\n",
    "# import shap\n",
    "\n",
    "import torch\n",
    "torch.set_default_tensor_type('torch.FloatTensor')\n",
    "\n",
    "# import xgboost as xgb\n",
    "# import gensim\n",
    "\n",
    "import PIL\n",
    "import cv2\n",
    "import torchvision"
   ]
  },
  {
   "cell_type": "code",
   "execution_count": null,
   "metadata": {},
   "outputs": [],
   "source": [
    "from torch import (\n",
    "    nn,\n",
    "    optim,\n",
    "    utils,\n",
    ")\n",
    "from PIL import (\n",
    "    Image,\n",
    "    ImageEnhance,\n",
    ")\n",
    "from torchvision import (\n",
    "    datasets,\n",
    "    transforms,\n",
    "    models,\n",
    ")"
   ]
  },
  {
   "cell_type": "markdown",
   "metadata": {},
   "source": [
    "# Sandbox"
   ]
  },
  {
   "cell_type": "code",
   "execution_count": null,
   "metadata": {},
   "outputs": [],
   "source": [
    "# nbsync notebook.ipynb destdir"
   ]
  },
  {
   "cell_type": "code",
   "execution_count": null,
   "metadata": {},
   "outputs": [],
   "source": [
    "src = \"playground.ipynb\"\n",
    "# with open(src, \"r\", encoding=\"utf-8\") as file:\n",
    "#     content = json.load(file)"
   ]
  },
  {
   "cell_type": "code",
   "execution_count": null,
   "metadata": {},
   "outputs": [],
   "source": [
    "# type(content[\"cells\"])"
   ]
  },
  {
   "cell_type": "code",
   "execution_count": null,
   "metadata": {},
   "outputs": [],
   "source": [
    "# cells = content[\"cells\"]\n",
    "# len(cells)"
   ]
  },
  {
   "cell_type": "code",
   "execution_count": null,
   "metadata": {},
   "outputs": [],
   "source": [
    "# cells[5]"
   ]
  },
  {
   "cell_type": "code",
   "execution_count": null,
   "metadata": {},
   "outputs": [],
   "source": []
  },
  {
   "cell_type": "code",
   "execution_count": null,
   "metadata": {},
   "outputs": [],
   "source": [
    "# export nbsync.py:8\n",
    "def _extract_relevant_cells(filename):\n",
    "    with open(filename, \"r\", encoding=\"utf-8\") as file:\n",
    "        regex = re.compile(REGEX)\n",
    "        return [\n",
    "            cell\n",
    "            for cell in json.load(file)[\"cells\"]\n",
    "            if (\n",
    "                cell[\"cell_type\"] == \"code\"\n",
    "                and cell[\"source\"]\n",
    "                and regex.match(cell[\"source\"][0]) is not None\n",
    "            )\n",
    "        ]"
   ]
  },
  {
   "cell_type": "code",
   "execution_count": null,
   "metadata": {},
   "outputs": [],
   "source": []
  },
  {
   "cell_type": "code",
   "execution_count": null,
   "metadata": {},
   "outputs": [],
   "source": [
    "cells = _extract_relevant_cells(src)\n",
    "# cells"
   ]
  },
  {
   "cell_type": "code",
   "execution_count": null,
   "metadata": {},
   "outputs": [],
   "source": [
    "cells[-5]"
   ]
  },
  {
   "cell_type": "code",
   "execution_count": null,
   "metadata": {},
   "outputs": [],
   "source": [
    "# print(\"\\n\\n\".join(\"\".join(cell[\"source\"]) for cell in cells))"
   ]
  },
  {
   "cell_type": "code",
   "execution_count": null,
   "metadata": {},
   "outputs": [],
   "source": []
  },
  {
   "cell_type": "code",
   "execution_count": null,
   "metadata": {},
   "outputs": [],
   "source": [
    "# export nbsync.py:1\n",
    "import argparse\n",
    "import logging\n",
    "import pathlib\n",
    "import re\n",
    "import json"
   ]
  },
  {
   "cell_type": "code",
   "execution_count": null,
   "metadata": {},
   "outputs": [],
   "source": []
  },
  {
   "cell_type": "code",
   "execution_count": null,
   "metadata": {},
   "outputs": [],
   "source": [
    "cells = _extract_relevant_cells(src)\n",
    "files = _sort_cells_by_files(cells)\n",
    "for filename, cells in files.items():\n",
    "    content = _assemble_file(cells, True, True)\n",
    "    dest = pathlib.Path(\"/home/ihor/Dropbox/Documents/Toolbox/\") / filename\n",
    "#     with open(dest, \"w\") as file:\n",
    "#         file.write(content)"
   ]
  },
  {
   "cell_type": "code",
   "execution_count": null,
   "metadata": {},
   "outputs": [],
   "source": [
    "# print(content)\n",
    "logging.BASIC_FORMAT"
   ]
  },
  {
   "cell_type": "code",
   "execution_count": null,
   "metadata": {},
   "outputs": [],
   "source": []
  },
  {
   "cell_type": "code",
   "execution_count": null,
   "metadata": {},
   "outputs": [],
   "source": [
    "# export nbsync.py:2\n",
    "def main():\n",
    "    \"\"\"Entry point of the application.\"\"\"\n",
    "    args = _Parser().specify_args().parse_args()\n",
    "    logging.basicConfig(level=\"INFO\", format=\"%(levelname)s - %(message)s\")\n",
    "    logger = logging.getLogger(__name__)\n",
    "    logger.info(\"processing %s\", args.notebook)\n",
    "    cells = _extract_relevant_cells(args.notebook)\n",
    "    files = _sort_cells_by_files(cells)\n",
    "    for filename, cells in files.items():\n",
    "        if args.dest.is_dir():\n",
    "            dest = args.dest / filename\n",
    "        else:\n",
    "            if args.dest.name == filename.name:\n",
    "                dest = args.dest\n",
    "            else:\n",
    "                logger.info(\n",
    "                    \"only %s chosen, skippin' %s\", args.dest, filename\n",
    "                )\n",
    "                continue\n",
    "        if args.interactive:\n",
    "            if not input(\n",
    "                \"Processing %s, enter y to proceed: \" % dest\n",
    "            ) == \"y\":\n",
    "                logger.info(\"skippin' %s\", dest)\n",
    "                continue\n",
    "        # TODO: refactor out filename\n",
    "        content = _assemble_file(\n",
    "            cells, args.shebang, args.main, args.docstring, filename\n",
    "        )\n",
    "        if dest.exists() and not args.force:\n",
    "            logger.info(\"%s exists, skippin'\", dest)\n",
    "            continue\n",
    "        with open(dest, \"w\") as file:\n",
    "            file.write(content)\n",
    "        logger.info(\"written %s\", dest)"
   ]
  },
  {
   "cell_type": "code",
   "execution_count": null,
   "metadata": {},
   "outputs": [],
   "source": [
    "# export nbsync.py:3\n",
    "class _Parser(argparse.ArgumentParser):\n",
    "\n",
    "    def specify_args(self):\n",
    "        self.add_argument(\"notebook\")\n",
    "        class _ConvertToPath(argparse.Action):\n",
    "            \"\"\"\"\"\"\n",
    "\n",
    "            def __call__(self, _, args, arg, ___):\n",
    "                result = pathlib.Path(arg)\n",
    "                setattr(args, self.dest, result)\n",
    "        self.add_argument(\n",
    "            \"dest\", help=\"directory of file\", action=_ConvertToPath\n",
    "        )\n",
    "        self.add_argument(\"-f\", \"--force\", action=\"store_true\")\n",
    "        self.add_argument(\"-s\", \"--shebang\", action=\"store_true\")\n",
    "        self.add_argument(\"-m\", \"--main\", action=\"store_true\")\n",
    "        self.add_argument(\"-i\", \"--interactive\", action=\"store_true\")\n",
    "        self.add_argument(\"-d\", \"--docstring\", help=(\n",
    "            \"override module docstring.  Worth noting that: 1. \\\"does the \"\n",
    "            \"right thing\\\" for one-liners only, 2. applies to all targets, 3. \"\n",
    "            \"sets cell number to 0\"\n",
    "        ))\n",
    "        return self"
   ]
  },
  {
   "cell_type": "code",
   "execution_count": null,
   "metadata": {},
   "outputs": [],
   "source": [
    "# export nbsync.py:4\n",
    "def _merge(upper, *args):\n",
    "    return (\n",
    "        \"# -*- coding: utf-8 -*-\\n\"\n",
    "        + \"# GENERATED BY NBSYNC.  MODIFY AT YOUR OWN RISK.\\n\"\n",
    "        + \"\\n\\n\\n\".join(\n",
    "            \"\".join(cell[\"source\"][1:]) for cell in upper\n",
    "        )\n",
    "        + \"\\n\"\n",
    "    )"
   ]
  },
  {
   "cell_type": "code",
   "execution_count": null,
   "metadata": {},
   "outputs": [],
   "source": [
    "# export nbsync.py:5\n",
    "def _assemble_file(cells, shebang, main, docstring=None, filename=None):\n",
    "    upper = _find_upper_level_exports(cells)\n",
    "    if docstring is not None:\n",
    "        upper = _set_docstring(upper, docstring, filename)\n",
    "    content = _merge(_reorder(upper))\n",
    "    if shebang:\n",
    "        content = \"#!/usr/bin/env python3.6\\n\" + content\n",
    "    if main:\n",
    "        content += '\\n\\nif __name__ == \"__main__\":\\n    main()\\n'\n",
    "    return content"
   ]
  },
  {
   "cell_type": "code",
   "execution_count": null,
   "metadata": {},
   "outputs": [],
   "source": [
    "# export nbsync.py:5.125\n",
    "def _find_docstring_cell(cells):\n",
    "    return next((cell for cell in cells if cell[\"source\"][1].startswith('\"\"\"')), None)"
   ]
  },
  {
   "cell_type": "code",
   "execution_count": null,
   "metadata": {},
   "outputs": [],
   "source": [
    "# export nbsync.py:5.25\n",
    "def _set_docstring(cells, docstring, filename):\n",
    "    docstring_cell = _find_docstring_cell(cells)\n",
    "    if docstring_cell is None:\n",
    "        return [{\"source\": [\n",
    "            \"# export %s:0\\n\" % filename,\n",
    "            '\"\"\"%s\"\"\"' % docstring\n",
    "        ]}] + cells\n",
    "    docstring_cell[\"source\"] = (\n",
    "        docstring_cell[\"source\"][:1] + ['\"\"\"%s\"\"\"' % docstring]\n",
    "    )\n",
    "    return cells"
   ]
  },
  {
   "cell_type": "code",
   "execution_count": null,
   "metadata": {},
   "outputs": [],
   "source": []
  },
  {
   "cell_type": "code",
   "execution_count": null,
   "metadata": {},
   "outputs": [],
   "source": []
  },
  {
   "cell_type": "code",
   "execution_count": null,
   "metadata": {},
   "outputs": [],
   "source": [
    "# export nbsync.py:5.5\n",
    "def _reorder(cells):\n",
    "    regex = re.compile(REGEX)\n",
    "    def _define_number(cell):\n",
    "        number = regex.match(cell[\"source\"][0]).group(\"number\")\n",
    "        if number is None:\n",
    "            return None\n",
    "        return float(number)\n",
    "    if all(_define_number(cell) is not None for cell in cells):\n",
    "        return sorted((cell for cell in cells), key=_define_number)\n",
    "    # Hopefully\n",
    "    docstring = _find_docstring_cell(cells)\n",
    "    imports = [cell for cell in cells if cell[\"source\"][1].startswith('import') or cell[\"source\"][1].startswith('from')]\n",
    "    constants = [cell for cell in cells if cell[\"source\"][1].split()[0].isupper()]\n",
    "    main = next((cell for cell in cells if next(line for line in cell[\"source\"][1:] if not line.startswith(\"@\")).startswith(\"def main\")), None)\n",
    "    public_classes = [\n",
    "        cell for cell in cells\n",
    "        if (\n",
    "            next(line for line in cell[\"source\"][1:] if not line.startswith(\"@\")).startswith(\"class \")\n",
    "            and not next(line for line in cell[\"source\"][1:] if not line.startswith(\"@\")).startswith(\"class _\")\n",
    "        )\n",
    "    ]\n",
    "    public_functions = [\n",
    "        cell for cell in cells\n",
    "        if (\n",
    "            next(line for line in cell[\"source\"][1:] if not line.startswith(\"@\")).startswith(\"def \")\n",
    "            and not next(line for line in cell[\"source\"][1:] if not line.startswith(\"@\")).startswith(\"def _\")\n",
    "            and not next(line for line in cell[\"source\"][1:] if not line.startswith(\"@\")).startswith(\"def main\")\n",
    "        )\n",
    "    ]\n",
    "    private_classes = [\n",
    "        cell for cell in cells\n",
    "        if next(line for line in cell[\"source\"][1:] if not line.startswith(\"@\")).startswith(\"class _\")\n",
    "    ]\n",
    "    private_functions = [\n",
    "        cell for cell in cells\n",
    "        if next(line for line in cell[\"source\"][1:] if not line.startswith(\"@\")).startswith(\"def _\")\n",
    "    ]\n",
    "    ordered = []\n",
    "    if docstring is not None:\n",
    "        ordered.append(docstring)\n",
    "    ordered.extend(imports)\n",
    "    ordered.extend(constants)\n",
    "    if main is not None:\n",
    "        ordered.append(main)\n",
    "    ordered.extend([*public_classes, *public_functions, *private_classes, *private_functions])\n",
    "    ordered.extend([cell for cell in cells if cell not in ordered])\n",
    "    return ordered"
   ]
  },
  {
   "cell_type": "code",
   "execution_count": null,
   "metadata": {},
   "outputs": [],
   "source": [
    "# export nbsync.py:6\n",
    "def _sort_cells_by_files(cells):\n",
    "    files = {}\n",
    "    regex = re.compile(REGEX)\n",
    "    def _define_filename(cell):\n",
    "        return pathlib.Path(regex.match(cell[\"source\"][0]).group(\"filename\"))\n",
    "    for cell in cells:\n",
    "        files.setdefault(_define_filename(cell), []).append(cell)\n",
    "    return files"
   ]
  },
  {
   "cell_type": "code",
   "execution_count": null,
   "metadata": {},
   "outputs": [],
   "source": [
    "_sort_cells_by_files(cells)"
   ]
  },
  {
   "cell_type": "code",
   "execution_count": null,
   "metadata": {},
   "outputs": [],
   "source": []
  },
  {
   "cell_type": "code",
   "execution_count": null,
   "metadata": {},
   "outputs": [],
   "source": []
  },
  {
   "cell_type": "code",
   "execution_count": null,
   "metadata": {},
   "outputs": [],
   "source": [
    "# export nbsync.py:1.5\n",
    "REGEX = \"^#[ ]*export[ ]*(?P<filename>[\\/A-Za-z0-9._-]+.py)(:(?P<number>[0-9.]+))?$\""
   ]
  },
  {
   "cell_type": "code",
   "execution_count": null,
   "metadata": {},
   "outputs": [],
   "source": [
    "# export nbsync.py:7\n",
    "def _find_upper_level_exports(cells):\n",
    "    regex = re.compile(REGEX)\n",
    "    return [cell for cell in cells if regex.match(cell[\"source\"][0]) is not None]"
   ]
  },
  {
   "cell_type": "code",
   "execution_count": null,
   "metadata": {},
   "outputs": [],
   "source": [
    "# print(\n",
    "#     \"\".join(_define_header(cells))\n",
    "# )"
   ]
  },
  {
   "cell_type": "code",
   "execution_count": null,
   "metadata": {},
   "outputs": [],
   "source": [
    "_find_upper_level_exports(cells)"
   ]
  },
  {
   "cell_type": "code",
   "execution_count": null,
   "metadata": {},
   "outputs": [],
   "source": [
    "# export nbsync.py:0\n",
    "\"\"\"Simple tool to facilitate explorative programming.\"\"\""
   ]
  },
  {
   "cell_type": "code",
   "execution_count": null,
   "metadata": {},
   "outputs": [],
   "source": []
  },
  {
   "cell_type": "code",
   "execution_count": null,
   "metadata": {},
   "outputs": [],
   "source": []
  },
  {
   "cell_type": "code",
   "execution_count": null,
   "metadata": {},
   "outputs": [],
   "source": []
  },
  {
   "cell_type": "code",
   "execution_count": null,
   "metadata": {},
   "outputs": [],
   "source": [
    "# export nbclean.py\n",
    "\"\"\"Another simple tool to facilitate explorative programming.\n",
    "\n",
    "Should be merged with nbsync.\n",
    "\"\"\""
   ]
  },
  {
   "cell_type": "code",
   "execution_count": null,
   "metadata": {},
   "outputs": [],
   "source": [
    "# export nbclean.py\n",
    "import json\n",
    "import collections\n",
    "import argparse\n",
    "import logging"
   ]
  },
  {
   "cell_type": "code",
   "execution_count": null,
   "metadata": {},
   "outputs": [],
   "source": [
    "# export nbclean.py\n",
    "def main():\n",
    "    \"\"\"Entry point of the application.\"\"\"\n",
    "    args = _Parser().specify_args().parse_args()\n",
    "    logging.basicConfig(level=\"INFO\", format=\"%(levelname)s - %(message)s\")\n",
    "    logger = logging.getLogger(__name__)\n",
    "    logger.info(\"processing %s\", args.notebook)\n",
    "    with open(args.notebook) as file:\n",
    "        obj = json.load(file, object_hook=collections.OrderedDict)\n",
    "    for cell in obj[\"cells\"]:\n",
    "        if cell[\"cell_type\"] == \"markdown\":\n",
    "            continue\n",
    "        cell[\"execution_count\"] = None\n",
    "        if args.outputs:\n",
    "            # Remove outputs completely\n",
    "            if \"outputs\" in cell:\n",
    "                cell[\"outputs\"] = []\n",
    "        else:\n",
    "            # Clean outputs' execution_count\n",
    "            outputs = cell.get(\"outputs\", [])\n",
    "            if outputs:\n",
    "                for output in outputs:\n",
    "                    output[\"execution_count\"] = None\n",
    "    if not args.force:\n",
    "        logger.info(\"not --force, not overriding %s\", args.notebook)\n",
    "        return\n",
    "    with open(args.notebook, \"w\") as file:\n",
    "        json.dump(obj, file, indent=1, ensure_ascii=False)\n",
    "        file.write(\"\\n\")"
   ]
  },
  {
   "cell_type": "code",
   "execution_count": null,
   "metadata": {},
   "outputs": [],
   "source": [
    "# export nbclean.py\n",
    "class _Parser(argparse.ArgumentParser):\n",
    "\n",
    "    def specify_args(self):\n",
    "        self.add_argument(\"notebook\")\n",
    "        self.add_argument(\"-f\", \"--force\", action=\"store_true\")\n",
    "        self.add_argument(\"-o\", \"--outputs\", action=\"store_true\")\n",
    "        return self"
   ]
  },
  {
   "cell_type": "code",
   "execution_count": null,
   "metadata": {},
   "outputs": [],
   "source": []
  },
  {
   "cell_type": "code",
   "execution_count": null,
   "metadata": {},
   "outputs": [],
   "source": []
  },
  {
   "cell_type": "code",
   "execution_count": null,
   "metadata": {},
   "outputs": [],
   "source": []
  },
  {
   "cell_type": "code",
   "execution_count": null,
   "metadata": {},
   "outputs": [],
   "source": []
  },
  {
   "cell_type": "code",
   "execution_count": null,
   "metadata": {},
   "outputs": [],
   "source": []
  },
  {
   "cell_type": "code",
   "execution_count": null,
   "metadata": {},
   "outputs": [],
   "source": []
  },
  {
   "cell_type": "code",
   "execution_count": null,
   "metadata": {},
   "outputs": [],
   "source": []
  },
  {
   "cell_type": "code",
   "execution_count": null,
   "metadata": {},
   "outputs": [],
   "source": []
  },
  {
   "cell_type": "code",
   "execution_count": null,
   "metadata": {},
   "outputs": [],
   "source": []
  }
 ],
 "metadata": {
  "kernelspec": {
   "display_name": "Python 3",
   "language": "python",
   "name": "python3"
  },
  "language_info": {
   "codemirror_mode": {
    "name": "ipython",
    "version": 3
   },
   "file_extension": ".py",
   "mimetype": "text/x-python",
   "name": "python",
   "nbconvert_exporter": "python",
   "pygments_lexer": "ipython3",
   "version": "3.6.9"
  },
  "toc-autonumbering": true
 },
 "nbformat": 4,
 "nbformat_minor": 4
}
